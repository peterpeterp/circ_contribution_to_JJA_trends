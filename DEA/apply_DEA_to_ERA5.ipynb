{
 "cells": [
  {
   "cell_type": "code",
   "execution_count": 2,
   "metadata": {},
   "outputs": [],
   "source": [
    "import os,glob,sys\n",
    "import xarray as xr\n",
    "import xesmf\n",
    "import numpy as np\n",
    "from sklearn.model_selection import train_test_split\n",
    "from sklearn.linear_model import LinearRegression, RidgeCV\n",
    "import dask\n",
    "from direct_effect_analysis import DirectEffectAnalysis\n",
    "\n",
    "sys.path.append('../')\n",
    "from _decomp import *\n",
    "from _data_minimal import *"
   ]
  },
  {
   "cell_type": "code",
   "execution_count": 3,
   "metadata": {},
   "outputs": [],
   "source": [
    "# Define summer months (June, July, August)\n",
    "target_variable='TREFHT'\n",
    "cov_variable = 'Z500'\n",
    "months=[6,7,8]\n",
    "period = [1979,2023]\n",
    "run = 'ERA5'\n",
    "gmst_rolling_window_size_in_days = 30"
   ]
  },
  {
   "cell_type": "code",
   "execution_count": null,
   "metadata": {},
   "outputs": [],
   "source": [
    "oo = decomp_ERA5(target_variable=target_variable, months=months, period=period)\n",
    "oo.target_open(0, 360, 30, 70, var_name_in_file='var167', cdo_options='-remapcon,r360x180')\n",
    "target = oo._data_raw['target']"
   ]
  },
  {
   "cell_type": "code",
   "execution_count": null,
   "metadata": {},
   "outputs": [],
   "source": [
    "cdo_input_string = oo.get_cdo_input_string(var='TREFHT')\n",
    "tmp_file = cdo.fldmean(input=f\"-selyear,{period[0]}/{period[1]} {cdo_input_string}\", output=f\"{cdo_tmp_dir}/GMT_daily_{period[0]}-{period[1]}.nc\")\n",
    "n_days = 30\n",
    "gmst = xr.load_dataarray(tmp_file).squeeze()\n",
    "gmst = gmst.rolling(time=n_days, center=True).mean()\n",
    "gmst = gmst.sel(time=gmst['time.month'].isin(months)).data[:, None]"
   ]
  },
  {
   "cell_type": "code",
   "execution_count": 18,
   "metadata": {},
   "outputs": [],
   "source": [
    "cdo_input_string = oo.get_cdo_input_string(var=cov_variable)\n",
    "lon1, lon2, lat1, lat2 = 0, 360, -12, 90\n",
    "with open(f\"{cdo_tmp_dir}/grid_6x6_{lat1}Nto{lat2}N.txt\", 'w') as fl:\n",
    "    fl.write(f'''\n",
    "gridtype  = lonlat\n",
    "xsize     = 60\n",
    "ysize     = 17\n",
    "xfirst    = 0\n",
    "xinc      = 6\n",
    "yfirst    = {lat1}\n",
    "yinc      = 6    \n",
    "''')\n",
    "tmp_file = cdo.remapcon(f\"{cdo_tmp_dir}/grid_6x6_{lat1}Nto{lat2}N.txt\", \n",
    "        input=f\"-selmon,{','.join([str(m) for m in months])} {cdo_input_string}\", \n",
    "        output=f\"{cdo_tmp_dir}/{cov_variable}_{oo._data_tag}_{lon1},{lon2},{lat1},{lat2}_6x6.nc\")\n",
    "        \n",
    "z500 = xr.load_dataarray(tmp_file).squeeze()\n",
    "z500_global = xr.load_dataarray(f'{cdo_tmp_dir}/var129_ERA5_E5_6m7m8_GL.nc').squeeze()\n",
    "z500 = z500 - z500_global\n",
    "z500 = z500.loc['1979':'2023']"
   ]
  },
  {
   "cell_type": "code",
   "execution_count": 19,
   "metadata": {},
   "outputs": [
    {
     "name": "stderr",
     "output_type": "stream",
     "text": [
      "100%|██████████| 20/20 [05:50<00:00, 17.53s/it]\n"
     ]
    }
   ],
   "source": [
    "# remove seasonality\n",
    "z500 = (z500.groupby('time.month') - z500.groupby('time.month').mean())\n",
    "target = (target.groupby('time.month') - target.groupby('time.month').mean())\n",
    "\n",
    "gmst = gmst - gmst.mean()\n",
    "\n",
    "# Saving lat, lon and time\n",
    "lats = target.lat.data\n",
    "lons = target.lon.data\n",
    "time = target.time.data\n",
    "\n",
    "# Converting xarray to numpy array of correct dimensions\n",
    "X_2d = z500.values.reshape((len(time), -1))\n",
    "Y_2d = target.values.reshape((len(time), -1))\n",
    "\n",
    "# training\n",
    "X_train, X_test, Y_train, Y_test, Z_train, Z_test = train_test_split(X_2d, Y_2d, gmst, test_size=0.2)\n",
    "n_cps = np.logspace(0.15, 2.2, 20).astype('int')\n",
    "dea = DirectEffectAnalysis(n_components='optimal', n_cps=n_cps, k_fold=5)\n",
    "dea.fit(X_train, Y_train, Z_train, fit_test=False)"
   ]
  },
  {
   "cell_type": "code",
   "execution_count": 20,
   "metadata": {},
   "outputs": [],
   "source": [
    "Y_dyn, Y_thermo = dea.counterfactual(Y_2d, gmst)"
   ]
  },
  {
   "cell_type": "code",
   "execution_count": 21,
   "metadata": {},
   "outputs": [],
   "source": [
    "trends = LinearRegression().fit(np.arange(Y_dyn.shape[0])[:,None], Y_dyn).coef_\n",
    "xr.Dataset(\n",
    "    {'prediction':xr.DataArray(trends.reshape(len(lats), len(lons)) * 92, dims=['lat','lon'], coords=dict(lat=lats, lon=lons))}\n",
    ").to_netcdf(f'/climca/people/ppfleiderer/decomposition/DEA_homer/ERA5_trend_1979-2023_circ.nc')"
   ]
  },
  {
   "cell_type": "code",
   "execution_count": 22,
   "metadata": {},
   "outputs": [],
   "source": [
    "trends = LinearRegression().fit(np.arange(Y_thermo.shape[0])[:,None], Y_thermo).coef_\n",
    "xr.Dataset(\n",
    "    {'prediction':xr.DataArray(trends.reshape(len(lats), len(lons)) * 92, dims=['lat','lon'], coords=dict(lat=lats, lon=lons))}\n",
    ").to_netcdf(f'/climca/people/ppfleiderer/decomposition/DEA_homer/ERA5_trend_1979-2023_thermo.nc')"
   ]
  },
  {
   "cell_type": "code",
   "execution_count": null,
   "metadata": {},
   "outputs": [],
   "source": []
  }
 ],
 "metadata": {
  "kernelspec": {
   "display_name": "py_gmlnet",
   "language": "python",
   "name": "python3"
  },
  "language_info": {
   "codemirror_mode": {
    "name": "ipython",
    "version": 3
   },
   "file_extension": ".py",
   "mimetype": "text/x-python",
   "name": "python",
   "nbconvert_exporter": "python",
   "pygments_lexer": "ipython3",
   "version": "3.9.18"
  }
 },
 "nbformat": 4,
 "nbformat_minor": 2
}
