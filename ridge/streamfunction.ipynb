{
 "cells": [
  {
   "cell_type": "code",
   "execution_count": 1,
   "metadata": {},
   "outputs": [],
   "source": [
    "import sys, os, glob, datetime, cftime,pickle\n",
    "import xarray as xr\n",
    "import numpy as np\n",
    "import pandas as pd\n",
    "from scipy import float64\n",
    "from dill.source import getsource\n",
    "import regionmask\n",
    "\n",
    "sys.path.append('../')\n",
    "\n",
    "from _decomp import *\n",
    "from _data_minimal import *\n",
    "from _print_and_plot import *\n",
    "\n",
    "\n",
    "from windspharm.xarray import VectorWind\n",
    "from windspharm.examples import example_data_path\n",
    "\n",
    "%load_ext autoreload \n",
    "%autoreload 2"
   ]
  },
  {
   "cell_type": "code",
   "execution_count": 2,
   "metadata": {},
   "outputs": [
    {
     "data": {
      "text/plain": [
       "['/climca/data/CESM2-ETH/b.e212.B1850cmip6.f09_g17.001.nudge-1850-2100-SSP370.1300.linear-weak/U_day_b.e212.B1850cmip6.f09_g17.001.nudge-1850-2100-SSP370.1300.linear-weak.nc',\n",
       " '/climca/data/CESM2-ETH/b.e212.B1850cmip6.f09_g17.001.nudge-1850-2100-SSP370.1400.linear-weak/U_day_b.e212.B1850cmip6.f09_g17.001.nudge-1850-2100-SSP370.1400.linear-weak.nc',\n",
       " '/climca/data/CESM2-ETH/b.e212.B1850cmip6.f09_g17.001.nudge-1850-2100-SSP370.1500.linear-weak/U_day_b.e212.B1850cmip6.f09_g17.001.nudge-1850-2100-SSP370.1500.linear-weak.nc',\n",
       " '/climca/data/CESM2-ETH/b.e212.BHISTcmip6.f09_g17.1300/U_day_b.e212.BHISTcmip6.f09_g17.1300.nc',\n",
       " '/climca/data/CESM2-ETH/b.e212.BHISTcmip6.f09_g17.1400/U_day_b.e212.BHISTcmip6.f09_g17.1400.nc',\n",
       " '/climca/data/CESM2-ETH/b.e212.BHISTcmip6.f09_g17.1500/U_day_b.e212.BHISTcmip6.f09_g17.1500.nc',\n",
       " '/climca/data/CESM2-ETH/b.e212.BSSP370cmip6.f09_g17.1300/U_day_b.e212.BSSP370cmip6.f09_g17.1300.nc',\n",
       " '/climca/data/CESM2-ETH/b.e212.BSSP370cmip6.f09_g17.1400/U_day_b.e212.BSSP370cmip6.f09_g17.1400.nc',\n",
       " '/climca/data/CESM2-ETH/b.e212.BSSP370cmip6.f09_g17.1500/U_day_b.e212.BSSP370cmip6.f09_g17.1500.nc']"
      ]
     },
     "execution_count": 2,
     "metadata": {},
     "output_type": "execute_result"
    }
   ],
   "source": [
    "sorted(glob.glob('/climca/data/CESM2-ETH/*/U_day_*'))"
   ]
  },
  {
   "cell_type": "code",
   "execution_count": 5,
   "metadata": {},
   "outputs": [
    {
     "name": "stdout",
     "output_type": "stream",
     "text": [
      "/climca/data/CESM2-ETH/b.e212.BSSP370cmip6.f09_g17.1500/U_day_b.e212.BSSP370cmip6.f09_g17.1500.nc\n",
      "/climca/data/CESM2-ETH/b.e212.BSSP370cmip6.f09_g17.1400/U_day_b.e212.BSSP370cmip6.f09_g17.1400.nc\n"
     ]
    }
   ],
   "source": [
    "for fl in sorted(glob.glob('/climca/data/CESM2-ETH/*/U_day_*'))[::-1]:\n",
    "    print(fl)\n",
    "    out_file = f\"{fl.replace('U_day_','XXX_day_').replace('/climca/data/CESM2-ETH','/climca/people/ppfleiderer/CESM2-ETH_postprocessed')}\"\n",
    "    out_path = '/'.join(out_file.split('/')[:-1])\n",
    "    if os.path.isdir(out_path) == False:\n",
    "        os.system(f\"mkdir -p {out_path}\")\n",
    "    cdo.sellevel(\n",
    "        '50000',\n",
    "        input=f\"{fl}\",\n",
    "        output=out_file.replace('XXX','U_500hPa'),\n",
    "        force =  False,\n",
    "        options = \"-P 4\"\n",
    "    )\n",
    "    cdo.sellevel(\n",
    "        '50000',\n",
    "        input=f\"{fl.replace('U_day_','V_day_')}\",\n",
    "        output=out_file.replace('XXX','V_500hPa'),\n",
    "        force =  False,\n",
    "        options = \"-P 4\"\n",
    "    )\n",
    "    cdo.dv2ps(\n",
    "        input=f\"-uv2dv -remapbil,F180 -merge {out_file.replace('XXX','U_500hPa')} {out_file.replace('XXX','V_500hPa')}\",\n",
    "        output=out_file.replace('XXX','streamVelopot_spherical_500hPa'),\n",
    "        force =  False,\n",
    "        options = \"-P 4\"\n",
    "    )\n",
    "    cdo.remapbil(\n",
    "        fl,\n",
    "        input=f\"-sp2gp {out_file.replace('XXX','streamVelopot_spherical_500hPa')}\",\n",
    "        output=out_file.replace('XXX','streamVelopot_500hPa'),\n",
    "        force =  False,\n",
    "        options = \"-P 4\"\n",
    "    )\n"
   ]
  }
 ],
 "metadata": {
  "kernelspec": {
   "display_name": "py_gmlnet",
   "language": "python",
   "name": "python3"
  },
  "language_info": {
   "codemirror_mode": {
    "name": "ipython",
    "version": 3
   },
   "file_extension": ".py",
   "mimetype": "text/x-python",
   "name": "python",
   "nbconvert_exporter": "python",
   "pygments_lexer": "ipython3",
   "version": "3.9.18"
  }
 },
 "nbformat": 4,
 "nbformat_minor": 2
}
